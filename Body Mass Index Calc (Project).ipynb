{
 "cells": [
  {
   "cell_type": "code",
   "execution_count": 3,
   "id": "7bf459a0-4845-4cc0-983c-50cf1484e2c7",
   "metadata": {},
   "outputs": [
    {
     "name": "stdin",
     "output_type": "stream",
     "text": [
      "Enter your name ditran\n",
      "Enter your Weight in Lbs/Pound :  115\n",
      "Enter your Height in Inches :  65\n"
     ]
    },
    {
     "name": "stdout",
     "output_type": "stream",
     "text": [
      "19.13491124260355 is your BMI\n",
      "ditran, You Are Normal Weight, MID FUCK\n"
     ]
    }
   ],
   "source": [
    "Name = input(\"Enter your name\")\n",
    "\n",
    "weight = int(input(\"Enter your Weight in Lbs/Pound : \"))\n",
    "\n",
    "height = int(input(\"Enter your Height in Inches : \"))\n",
    "\n",
    "BMI = (weight * 703) / (height * height)\n",
    "\n",
    "print(str(BMI) + \" is your BMI\")\n",
    "\n",
    "if BMI > 0:\n",
    "    if (BMI < 18.5):\n",
    "        print(Name + \", Your Are Underweight to Normal, SKIINY FUCK\")\n",
    "    elif (BMI<=24.9):\n",
    "        print(Name + \", You Are Normal Weight, MID FUCK\")\n",
    "    elif (BMI<29.9):\n",
    "        print(Name + \", You Are Overweight you fat fuck\")\n",
    "    elif (BMI<34.9):\n",
    "        print(Name + \", You Are Obesse, Try a salad once in a while\")\n",
    "    elif (BMI<39.9):\n",
    "        print(Name + \", You Are Severely Obesse, go on a diet bro\")\n",
    "    else:\n",
    "        print(Name + \", You Are MORBIDLY OBESSE YOU FAT FUCK\")\n",
    "else:\n",
    "    print(\"Enter Valid Input\")"
   ]
  },
  {
   "cell_type": "code",
   "execution_count": 13,
   "id": "14cb2556-825d-44bd-8d40-fc6b109095db",
   "metadata": {},
   "outputs": [
    {
     "data": {
      "text/plain": [
       "str"
      ]
     },
     "execution_count": 13,
     "metadata": {},
     "output_type": "execute_result"
    }
   ],
   "source": []
  },
  {
   "cell_type": "code",
   "execution_count": null,
   "id": "510a59f4-8112-45ee-b63b-623a9c861053",
   "metadata": {},
   "outputs": [],
   "source": []
  },
  {
   "cell_type": "code",
   "execution_count": null,
   "id": "849e22e5-55e7-4e48-b267-b7ab7287ac0c",
   "metadata": {},
   "outputs": [],
   "source": []
  },
  {
   "cell_type": "code",
   "execution_count": null,
   "id": "8fd578b0-21c4-47bb-82e7-fb21d18f4e83",
   "metadata": {},
   "outputs": [],
   "source": []
  },
  {
   "cell_type": "code",
   "execution_count": null,
   "id": "97e43197-5e32-4ead-904f-5a6d7474aa9b",
   "metadata": {},
   "outputs": [],
   "source": []
  },
  {
   "cell_type": "code",
   "execution_count": null,
   "id": "d9b08c66-918b-4042-84ed-db72c13c8369",
   "metadata": {},
   "outputs": [],
   "source": [
    "#BMI = (weight in pounds x 703) / (height in inches x height in inches)      \n",
    "#print(weight)"
   ]
  },
  {
   "cell_type": "code",
   "execution_count": 37,
   "id": "5a284838-3ade-4f57-b19c-92346ff3a9d2",
   "metadata": {},
   "outputs": [
    {
     "name": "stdout",
     "output_type": "stream",
     "text": [
      "Felix, You Are Overweight\n"
     ]
    }
   ],
   "source": [
    "if BMI > 0:\n",
    "    if (BMI < 18.5):\n",
    "        print(Name + \", Your Are Underweight to Normal\")\n",
    "    elif (BMI<=24.9):\n",
    "        print(Name + \", You Are Normal Weight\")\n",
    "    elif (BMI<29.9):\n",
    "        print(Name + \", You Are Overweight\")\n",
    "    elif (BMI<34.9):\n",
    "        print(Name + \", You Are Obesse, Try a salad once in a while\")\n",
    "    elif (BMI<39.9):\n",
    "        print(Name + \", You Are Severely Obesse, go on a diet bro\")\n",
    "    else:\n",
    "        print(Name + \", You Are MORBIDLY OBESSE YOU FAT FUCK\")\n",
    "else:\n",
    "    print(\"Enter Valid Input\")"
   ]
  },
  {
   "cell_type": "code",
   "execution_count": null,
   "id": "70ba85e7-c0a8-45f0-8ff9-fcf3d3bb273a",
   "metadata": {},
   "outputs": [],
   "source": []
  },
  {
   "cell_type": "code",
   "execution_count": null,
   "id": "c48f753a-795a-4c65-a310-5596d0f4b5bf",
   "metadata": {},
   "outputs": [],
   "source": []
  },
  {
   "cell_type": "code",
   "execution_count": null,
   "id": "ac8eddb1-0938-4cec-89ed-e6967093817a",
   "metadata": {},
   "outputs": [],
   "source": []
  },
  {
   "cell_type": "code",
   "execution_count": null,
   "id": "8449a29f-dfaa-4479-bc66-99923239bccb",
   "metadata": {},
   "outputs": [],
   "source": []
  },
  {
   "cell_type": "code",
   "execution_count": null,
   "id": "71629ad5-648c-4d79-b418-bc38e3733939",
   "metadata": {},
   "outputs": [],
   "source": []
  },
  {
   "cell_type": "code",
   "execution_count": null,
   "id": "1d63f72d-e713-4fb7-8fea-e2b4d822a2cf",
   "metadata": {},
   "outputs": [],
   "source": []
  },
  {
   "cell_type": "code",
   "execution_count": null,
   "id": "c227bcff-3da8-459a-b331-96d7d70c311e",
   "metadata": {},
   "outputs": [],
   "source": []
  },
  {
   "cell_type": "code",
   "execution_count": null,
   "id": "6aa541e2-338d-49ae-8dcb-ceee8c7f5e44",
   "metadata": {},
   "outputs": [],
   "source": []
  },
  {
   "cell_type": "code",
   "execution_count": null,
   "id": "92be57f4-4dee-41b1-b29d-73f3f2e1ef7e",
   "metadata": {},
   "outputs": [],
   "source": []
  },
  {
   "cell_type": "code",
   "execution_count": null,
   "id": "6879361a-4371-436a-9a5e-f75850e87a36",
   "metadata": {},
   "outputs": [],
   "source": []
  },
  {
   "cell_type": "code",
   "execution_count": null,
   "id": "a0b9a499-22e3-4799-bd3d-5fe74e299b76",
   "metadata": {},
   "outputs": [],
   "source": []
  },
  {
   "cell_type": "code",
   "execution_count": null,
   "id": "3a9bab7c-cfb4-458f-8c6b-3440ff0a7da5",
   "metadata": {},
   "outputs": [],
   "source": []
  },
  {
   "cell_type": "code",
   "execution_count": null,
   "id": "b216ef46-c48b-4ff7-83c1-6be283d99dda",
   "metadata": {},
   "outputs": [],
   "source": []
  },
  {
   "cell_type": "code",
   "execution_count": null,
   "id": "044219f6-a62a-4632-8ac7-3318c27b2666",
   "metadata": {},
   "outputs": [],
   "source": []
  },
  {
   "cell_type": "code",
   "execution_count": null,
   "id": "40bd8d20-722b-4d05-bf99-aada9ee20028",
   "metadata": {},
   "outputs": [],
   "source": []
  },
  {
   "cell_type": "code",
   "execution_count": null,
   "id": "4666cd6d-b1f6-4c69-a46e-e0d7d05bc0ab",
   "metadata": {},
   "outputs": [],
   "source": []
  }
 ],
 "metadata": {
  "kernelspec": {
   "display_name": "Python [conda env:base] *",
   "language": "python",
   "name": "conda-base-py"
  },
  "language_info": {
   "codemirror_mode": {
    "name": "ipython",
    "version": 3
   },
   "file_extension": ".py",
   "mimetype": "text/x-python",
   "name": "python",
   "nbconvert_exporter": "python",
   "pygments_lexer": "ipython3",
   "version": "3.12.7"
  }
 },
 "nbformat": 4,
 "nbformat_minor": 5
}
