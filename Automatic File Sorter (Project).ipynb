{
 "cells": [
  {
   "cell_type": "code",
   "execution_count": 10,
   "id": "fb3130c6-e5f7-47a8-b46f-93a882ff86c5",
   "metadata": {},
   "outputs": [],
   "source": [
    "import os, shutil"
   ]
  },
  {
   "cell_type": "code",
   "execution_count": 62,
   "id": "e71070c2-ccc1-4fc2-b84b-4138cdc67ad2",
   "metadata": {},
   "outputs": [],
   "source": [
    "path = r\"E:/PUNYA MAMI/REPORT U BRYAN DAN UMG/\""
   ]
  },
  {
   "cell_type": "code",
   "execution_count": 64,
   "id": "ead535bf-7183-43f8-ae3c-0a0861018372",
   "metadata": {},
   "outputs": [
    {
     "data": {
      "text/plain": [
       "['02. Bukti Potong.pdf',\n",
       " '2019',\n",
       " '2020',\n",
       " '2021',\n",
       " '2022',\n",
       " '2023',\n",
       " 'April 2019.xlsx',\n",
       " 'AR-AP SEP 2019.xlsx',\n",
       " 'BANK 3P AUG 2019.pdf',\n",
       " 'DATA KARYAWAN 2021.xlsx',\n",
       " 'excel mami',\n",
       " 'form pengukuhan sdh diisi.xls',\n",
       " 'Juni 2019.xlsx',\n",
       " 'Lap Keu 2021 ( versi revisi).xlsx',\n",
       " 'Laporan Bank May 2019.xlsx',\n",
       " 'Pajak Penjualan 2019.xlsx',\n",
       " 'pdf mami',\n",
       " 'Penjualan-2020 (PPN)DES.xlsx',\n",
       " 'PPN-JAN-JUL 2021.xlsx',\n",
       " 'REPOT UNTUK BRYAN TEMPLATE.xlsx']"
      ]
     },
     "execution_count": 64,
     "metadata": {},
     "output_type": "execute_result"
    }
   ],
   "source": [
    "os.listdir(path)"
   ]
  },
  {
   "cell_type": "code",
   "execution_count": 66,
   "id": "7b81bc1f-727b-4d2a-9e23-db23b85ac9f9",
   "metadata": {},
   "outputs": [],
   "source": [
    "file_name = os.listdir(path)"
   ]
  },
  {
   "cell_type": "code",
   "execution_count": 91,
   "id": "e1ddf38d-5148-41e6-83ba-aab945451ca3",
   "metadata": {
    "scrolled": true
   },
   "outputs": [
    {
     "name": "stdout",
     "output_type": "stream",
     "text": [
      " There are files that are not moved\n",
      " There are files that are not moved\n",
      " There are files that are not moved\n",
      " There are files that are not moved\n",
      " There are files that are not moved\n",
      " There are files that are not moved\n",
      " There are files that are not moved\n",
      " There are files that are not moved\n"
     ]
    }
   ],
   "source": [
    "folder_name = ['excel mami','pdf mami']\n",
    "for loop in range(0,2):\n",
    "    if not os.path.exists(path + folder_name[loop]):\n",
    "        print(path + folder_name[loop])\n",
    "        os.makedirs(path + folder_name[loop])\n",
    "for file in file_name:\n",
    "    if \".pdf\" in file and not os.path.exists(path + \"pdf mami/\" + file):\n",
    "        shutil.move(path + file, path + \"pdf mami/\" + file)\n",
    "    elif \".xlsx\" in file and not os.path.exists(path + \"excel mami/\" + file):\n",
    "        shutil.move(path + file, path + \"excel mami/\" + file)\n",
    "    else:\n",
    "        print(\" There are files that are not moved\")"
   ]
  },
  {
   "cell_type": "code",
   "execution_count": null,
   "id": "5556a1a5-4901-4b5c-9df8-f23e30deae6f",
   "metadata": {},
   "outputs": [],
   "source": []
  }
 ],
 "metadata": {
  "kernelspec": {
   "display_name": "Python [conda env:base] *",
   "language": "python",
   "name": "conda-base-py"
  },
  "language_info": {
   "codemirror_mode": {
    "name": "ipython",
    "version": 3
   },
   "file_extension": ".py",
   "mimetype": "text/x-python",
   "name": "python",
   "nbconvert_exporter": "python",
   "pygments_lexer": "ipython3",
   "version": "3.12.7"
  }
 },
 "nbformat": 4,
 "nbformat_minor": 5
}
